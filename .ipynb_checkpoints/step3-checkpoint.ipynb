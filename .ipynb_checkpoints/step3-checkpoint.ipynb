{
 "cells": [
  {
   "cell_type": "markdown",
   "metadata": {},
   "source": [
    "### Проверка того, что наше api работает\n",
    "\n",
    "Перед началом необходимо собрать docker-образ и запустить контейнер\n",
    "\n",
    "1. Следовать инструкциям https://github.com/fimochka-sudo/GB_docker_flask_example/blob/main/README.md\n",
    "2. Далее уже запускать код ниже"
   ]
  },
  {
   "cell_type": "code",
   "execution_count": 1,
   "metadata": {},
   "outputs": [
    {
     "name": "stderr",
     "output_type": "stream",
     "text": [
      "/Users/nadejdaberzina/opt/anaconda3/lib/python3.7/site-packages/sklearn/utils/deprecation.py:144: FutureWarning: The sklearn.metrics.scorer module is  deprecated in version 0.22 and will be removed in version 0.24. The corresponding classes / functions should instead be imported from sklearn.metrics. Anything that cannot be imported from sklearn.metrics is now part of the private API.\n",
      "  warnings.warn(message, FutureWarning)\n"
     ]
    }
   ],
   "source": [
    "import pandas as pd\n",
    "from sklearn.metrics import roc_auc_score,roc_curve,scorer\n",
    "from urllib import request, parse\n",
    "\n",
    "X_test = pd.read_csv(\"X_test.csv\")\n",
    "y_test = pd.read_csv(\"y_test.csv\")"
   ]
  },
  {
   "cell_type": "code",
   "execution_count": 2,
   "metadata": {},
   "outputs": [
    {
     "data": {
      "text/html": [
       "<div>\n",
       "<style scoped>\n",
       "    .dataframe tbody tr th:only-of-type {\n",
       "        vertical-align: middle;\n",
       "    }\n",
       "\n",
       "    .dataframe tbody tr th {\n",
       "        vertical-align: top;\n",
       "    }\n",
       "\n",
       "    .dataframe thead th {\n",
       "        text-align: right;\n",
       "    }\n",
       "</style>\n",
       "<table border=\"1\" class=\"dataframe\">\n",
       "  <thead>\n",
       "    <tr style=\"text-align: right;\">\n",
       "      <th></th>\n",
       "      <th>id</th>\n",
       "      <th>age</th>\n",
       "      <th>gender</th>\n",
       "      <th>height</th>\n",
       "      <th>weight</th>\n",
       "      <th>ap_hi</th>\n",
       "      <th>ap_lo</th>\n",
       "      <th>cholesterol</th>\n",
       "      <th>gluc</th>\n",
       "      <th>smoke</th>\n",
       "      <th>alco</th>\n",
       "      <th>active</th>\n",
       "    </tr>\n",
       "  </thead>\n",
       "  <tbody>\n",
       "    <tr>\n",
       "      <th>0</th>\n",
       "      <td>95361</td>\n",
       "      <td>16888</td>\n",
       "      <td>1</td>\n",
       "      <td>171</td>\n",
       "      <td>76.0</td>\n",
       "      <td>120</td>\n",
       "      <td>80</td>\n",
       "      <td>1</td>\n",
       "      <td>1</td>\n",
       "      <td>0</td>\n",
       "      <td>0</td>\n",
       "      <td>1</td>\n",
       "    </tr>\n",
       "    <tr>\n",
       "      <th>1</th>\n",
       "      <td>53290</td>\n",
       "      <td>19718</td>\n",
       "      <td>1</td>\n",
       "      <td>173</td>\n",
       "      <td>80.0</td>\n",
       "      <td>130</td>\n",
       "      <td>80</td>\n",
       "      <td>3</td>\n",
       "      <td>1</td>\n",
       "      <td>0</td>\n",
       "      <td>0</td>\n",
       "      <td>1</td>\n",
       "    </tr>\n",
       "    <tr>\n",
       "      <th>2</th>\n",
       "      <td>37787</td>\n",
       "      <td>18148</td>\n",
       "      <td>2</td>\n",
       "      <td>175</td>\n",
       "      <td>99.0</td>\n",
       "      <td>180</td>\n",
       "      <td>100</td>\n",
       "      <td>2</td>\n",
       "      <td>1</td>\n",
       "      <td>0</td>\n",
       "      <td>0</td>\n",
       "      <td>0</td>\n",
       "    </tr>\n",
       "  </tbody>\n",
       "</table>\n",
       "</div>"
      ],
      "text/plain": [
       "      id    age  gender  height  weight  ap_hi  ap_lo  cholesterol  gluc  \\\n",
       "0  95361  16888       1     171    76.0    120     80            1     1   \n",
       "1  53290  19718       1     173    80.0    130     80            3     1   \n",
       "2  37787  18148       2     175    99.0    180    100            2     1   \n",
       "\n",
       "   smoke  alco  active  \n",
       "0      0     0       1  \n",
       "1      0     0       1  \n",
       "2      0     0       0  "
      ]
     },
     "execution_count": 2,
     "metadata": {},
     "output_type": "execute_result"
    }
   ],
   "source": [
    "X_test.head(3)"
   ]
  },
  {
   "cell_type": "code",
   "execution_count": 3,
   "metadata": {},
   "outputs": [
    {
     "name": "stdout",
     "output_type": "stream",
     "text": [
      "(18000, 1, 189, 67, 120, 80, 1, 2, 0, 0, 0)\n"
     ]
    }
   ],
   "source": [
    "import urllib.request\n",
    "import json\n",
    "import requests\n",
    "\n",
    "\n",
    "data = (18000, 1, 189, 67, 120, 80, 1, 2, 0, 0, 0)\n",
    "print(data)"
   ]
  },
  {
   "cell_type": "code",
   "execution_count": 4,
   "metadata": {},
   "outputs": [],
   "source": [
    "def get_prediction(x):\n",
    "    age, gender, height, weight, ap_hi, ap_lo, cholesterol, gluc, smoke, alco, active = x\n",
    "    body = {'age': age, \n",
    "            'gender': gender,\n",
    "            'height': height,\n",
    "            'weight': weight,\n",
    "            'ap_hi': ap_hi,\n",
    "            'ap_lo': ap_lo,\n",
    "            'cholesterol': cholesterol,\n",
    "            'gluc': gluc,\n",
    "            'smoke': smoke,\n",
    "            'alco': alco,\n",
    "            'active': active} \n",
    "\n",
    "    myurl = 'http://127.0.0.1:5000/predict'\n",
    "    req = urllib.request.Request(myurl)\n",
    "    req.add_header('Content-Type', 'application/json; charset=utf-8')\n",
    "    jsondata = json.dumps(body)\n",
    "    jsondataasbytes = jsondata.encode('utf-8')   # needs to be bytes\n",
    "    req.add_header('Content-Length', len(jsondataasbytes))\n",
    "    print (jsondataasbytes)\n",
    "    response = urllib.request.urlopen(req, jsondataasbytes)\n",
    "    return json.loads(response.read())['predictions']"
   ]
  },
  {
   "cell_type": "code",
   "execution_count": 5,
   "metadata": {},
   "outputs": [
    {
     "name": "stdout",
     "output_type": "stream",
     "text": [
      "b'{\"age\": 18000, \"gender\": 1, \"height\": 189, \"weight\": 67, \"ap_hi\": 120, \"ap_lo\": 80, \"cholesterol\": 1, \"gluc\": 2, \"smoke\": 0, \"alco\": 0, \"active\": 0}'\n",
      "prediction 0.42\n"
     ]
    }
   ],
   "source": [
    "if __name__ == '__main__':\n",
    "    response = get_prediction(data)\n",
    "    print('prediction', response)"
   ]
  },
  {
   "cell_type": "code",
   "execution_count": 6,
   "metadata": {},
   "outputs": [
    {
     "name": "stdout",
     "output_type": "stream",
     "text": [
      "b'{\"age\": 18000, \"gender\": 1, \"height\": 189, \"weight\": 67, \"ap_hi\": 120, \"ap_lo\": 80, \"cholesterol\": 1, \"gluc\": 2, \"smoke\": 0, \"alco\": 0, \"active\": 0}'\n"
     ]
    },
    {
     "data": {
      "text/plain": [
       "0.42"
      ]
     },
     "execution_count": 6,
     "metadata": {},
     "output_type": "execute_result"
    }
   ],
   "source": [
    "x = 18000, 1, 189, 67, 120, 80, 1, 2, 0, 0, 0\n",
    "get_prediction(x)"
   ]
  },
  {
   "cell_type": "code",
   "execution_count": 7,
   "metadata": {},
   "outputs": [
    {
     "name": "stdout",
     "output_type": "stream",
     "text": [
      "b'{\"age\": 16888.0, \"gender\": 1.0, \"height\": 171.0, \"weight\": 76.0, \"ap_hi\": 120.0, \"ap_lo\": 80.0, \"cholesterol\": 1.0, \"gluc\": 1.0, \"smoke\": 0.0, \"alco\": 0.0, \"active\": 1.0}'\n",
      "b'{\"age\": 19718.0, \"gender\": 1.0, \"height\": 173.0, \"weight\": 80.0, \"ap_hi\": 130.0, \"ap_lo\": 80.0, \"cholesterol\": 3.0, \"gluc\": 1.0, \"smoke\": 0.0, \"alco\": 0.0, \"active\": 1.0}'\n",
      "b'{\"age\": 18148.0, \"gender\": 2.0, \"height\": 175.0, \"weight\": 99.0, \"ap_hi\": 180.0, \"ap_lo\": 100.0, \"cholesterol\": 2.0, \"gluc\": 1.0, \"smoke\": 0.0, \"alco\": 0.0, \"active\": 0.0}'\n",
      "b'{\"age\": 15279.0, \"gender\": 1.0, \"height\": 163.0, \"weight\": 113.0, \"ap_hi\": 125.0, \"ap_lo\": 85.0, \"cholesterol\": 1.0, \"gluc\": 1.0, \"smoke\": 0.0, \"alco\": 0.0, \"active\": 1.0}'\n",
      "b'{\"age\": 19942.0, \"gender\": 2.0, \"height\": 168.0, \"weight\": 68.0, \"ap_hi\": 110.0, \"ap_lo\": 70.0, \"cholesterol\": 1.0, \"gluc\": 1.0, \"smoke\": 0.0, \"alco\": 0.0, \"active\": 1.0}'\n",
      "b'{\"age\": 18993.0, \"gender\": 1.0, \"height\": 163.0, \"weight\": 68.0, \"ap_hi\": 120.0, \"ap_lo\": 80.0, \"cholesterol\": 1.0, \"gluc\": 1.0, \"smoke\": 0.0, \"alco\": 0.0, \"active\": 1.0}'\n",
      "b'{\"age\": 22539.0, \"gender\": 2.0, \"height\": 164.0, \"weight\": 75.0, \"ap_hi\": 120.0, \"ap_lo\": 80.0, \"cholesterol\": 1.0, \"gluc\": 1.0, \"smoke\": 0.0, \"alco\": 0.0, \"active\": 1.0}'\n",
      "b'{\"age\": 19013.0, \"gender\": 2.0, \"height\": 175.0, \"weight\": 98.0, \"ap_hi\": 130.0, \"ap_lo\": 80.0, \"cholesterol\": 2.0, \"gluc\": 1.0, \"smoke\": 0.0, \"alco\": 1.0, \"active\": 1.0}'\n",
      "b'{\"age\": 18061.0, \"gender\": 1.0, \"height\": 153.0, \"weight\": 76.0, \"ap_hi\": 120.0, \"ap_lo\": 70.0, \"cholesterol\": 1.0, \"gluc\": 1.0, \"smoke\": 0.0, \"alco\": 0.0, \"active\": 1.0}'\n",
      "b'{\"age\": 16762.0, \"gender\": 1.0, \"height\": 156.0, \"weight\": 59.0, \"ap_hi\": 120.0, \"ap_lo\": 80.0, \"cholesterol\": 1.0, \"gluc\": 1.0, \"smoke\": 0.0, \"alco\": 0.0, \"active\": 1.0}'\n",
      "b'{\"age\": 21741.0, \"gender\": 2.0, \"height\": 176.0, \"weight\": 92.0, \"ap_hi\": 150.0, \"ap_lo\": 90.0, \"cholesterol\": 1.0, \"gluc\": 1.0, \"smoke\": 0.0, \"alco\": 0.0, \"active\": 1.0}'\n",
      "b'{\"age\": 19857.0, \"gender\": 1.0, \"height\": 174.0, \"weight\": 94.0, \"ap_hi\": 120.0, \"ap_lo\": 80.0, \"cholesterol\": 2.0, \"gluc\": 2.0, \"smoke\": 0.0, \"alco\": 0.0, \"active\": 1.0}'\n",
      "b'{\"age\": 21418.0, \"gender\": 1.0, \"height\": 159.0, \"weight\": 59.0, \"ap_hi\": 120.0, \"ap_lo\": 80.0, \"cholesterol\": 1.0, \"gluc\": 1.0, \"smoke\": 0.0, \"alco\": 0.0, \"active\": 1.0}'\n",
      "b'{\"age\": 16729.0, \"gender\": 2.0, \"height\": 168.0, \"weight\": 65.0, \"ap_hi\": 120.0, \"ap_lo\": 80.0, \"cholesterol\": 1.0, \"gluc\": 1.0, \"smoke\": 0.0, \"alco\": 0.0, \"active\": 1.0}'\n",
      "b'{\"age\": 15057.0, \"gender\": 1.0, \"height\": 164.0, \"weight\": 79.0, \"ap_hi\": 110.0, \"ap_lo\": 70.0, \"cholesterol\": 1.0, \"gluc\": 1.0, \"smoke\": 0.0, \"alco\": 0.0, \"active\": 1.0}'\n",
      "b'{\"age\": 14741.0, \"gender\": 1.0, \"height\": 153.0, \"weight\": 62.0, \"ap_hi\": 130.0, \"ap_lo\": 90.0, \"cholesterol\": 2.0, \"gluc\": 1.0, \"smoke\": 0.0, \"alco\": 0.0, \"active\": 1.0}'\n",
      "b'{\"age\": 18936.0, \"gender\": 2.0, \"height\": 162.0, \"weight\": 76.0, \"ap_hi\": 100.0, \"ap_lo\": 70.0, \"cholesterol\": 1.0, \"gluc\": 2.0, \"smoke\": 1.0, \"alco\": 0.0, \"active\": 1.0}'\n",
      "b'{\"age\": 16740.0, \"gender\": 1.0, \"height\": 170.0, \"weight\": 93.0, \"ap_hi\": 140.0, \"ap_lo\": 90.0, \"cholesterol\": 3.0, \"gluc\": 1.0, \"smoke\": 0.0, \"alco\": 0.0, \"active\": 1.0}'\n",
      "b'{\"age\": 21174.0, \"gender\": 2.0, \"height\": 170.0, \"weight\": 93.0, \"ap_hi\": 120.0, \"ap_lo\": 80.0, \"cholesterol\": 1.0, \"gluc\": 1.0, \"smoke\": 0.0, \"alco\": 0.0, \"active\": 1.0}'\n",
      "b'{\"age\": 23423.0, \"gender\": 1.0, \"height\": 159.0, \"weight\": 89.0, \"ap_hi\": 180.0, \"ap_lo\": 100.0, \"cholesterol\": 1.0, \"gluc\": 1.0, \"smoke\": 0.0, \"alco\": 0.0, \"active\": 1.0}'\n",
      "b'{\"age\": 16289.0, \"gender\": 2.0, \"height\": 170.0, \"weight\": 72.0, \"ap_hi\": 120.0, \"ap_lo\": 90.0, \"cholesterol\": 1.0, \"gluc\": 1.0, \"smoke\": 0.0, \"alco\": 0.0, \"active\": 1.0}'\n",
      "b'{\"age\": 20410.0, \"gender\": 1.0, \"height\": 178.0, \"weight\": 87.0, \"ap_hi\": 120.0, \"ap_lo\": 80.0, \"cholesterol\": 1.0, \"gluc\": 1.0, \"smoke\": 0.0, \"alco\": 0.0, \"active\": 0.0}'\n",
      "b'{\"age\": 22688.0, \"gender\": 1.0, \"height\": 164.0, \"weight\": 86.0, \"ap_hi\": 140.0, \"ap_lo\": 60.0, \"cholesterol\": 2.0, \"gluc\": 1.0, \"smoke\": 0.0, \"alco\": 0.0, \"active\": 1.0}'\n",
      "b'{\"age\": 20312.0, \"gender\": 1.0, \"height\": 156.0, \"weight\": 58.0, \"ap_hi\": 120.0, \"ap_lo\": 60.0, \"cholesterol\": 1.0, \"gluc\": 1.0, \"smoke\": 0.0, \"alco\": 0.0, \"active\": 1.0}'\n",
      "b'{\"age\": 19009.0, \"gender\": 2.0, \"height\": 174.0, \"weight\": 66.0, \"ap_hi\": 160.0, \"ap_lo\": 100.0, \"cholesterol\": 2.0, \"gluc\": 1.0, \"smoke\": 1.0, \"alco\": 0.0, \"active\": 0.0}'\n",
      "b'{\"age\": 17550.0, \"gender\": 2.0, \"height\": 150.0, \"weight\": 51.0, \"ap_hi\": 110.0, \"ap_lo\": 70.0, \"cholesterol\": 1.0, \"gluc\": 1.0, \"smoke\": 0.0, \"alco\": 0.0, \"active\": 1.0}'\n",
      "b'{\"age\": 20369.0, \"gender\": 1.0, \"height\": 165.0, \"weight\": 68.0, \"ap_hi\": 100.0, \"ap_lo\": 80.0, \"cholesterol\": 1.0, \"gluc\": 1.0, \"smoke\": 0.0, \"alco\": 0.0, \"active\": 1.0}'\n",
      "b'{\"age\": 16631.0, \"gender\": 1.0, \"height\": 158.0, \"weight\": 51.0, \"ap_hi\": 120.0, \"ap_lo\": 80.0, \"cholesterol\": 2.0, \"gluc\": 1.0, \"smoke\": 1.0, \"alco\": 1.0, \"active\": 1.0}'\n",
      "b'{\"age\": 19006.0, \"gender\": 2.0, \"height\": 161.0, \"weight\": 52.0, \"ap_hi\": 100.0, \"ap_lo\": 60.0, \"cholesterol\": 1.0, \"gluc\": 1.0, \"smoke\": 1.0, \"alco\": 0.0, \"active\": 1.0}'\n",
      "b'{\"age\": 14706.0, \"gender\": 2.0, \"height\": 187.0, \"weight\": 85.0, \"ap_hi\": 120.0, \"ap_lo\": 70.0, \"cholesterol\": 1.0, \"gluc\": 1.0, \"smoke\": 0.0, \"alco\": 0.0, \"active\": 1.0}'\n",
      "b'{\"age\": 18983.0, \"gender\": 1.0, \"height\": 163.0, \"weight\": 60.0, \"ap_hi\": 130.0, \"ap_lo\": 80.0, \"cholesterol\": 1.0, \"gluc\": 1.0, \"smoke\": 0.0, \"alco\": 0.0, \"active\": 0.0}'\n",
      "b'{\"age\": 20399.0, \"gender\": 2.0, \"height\": 178.0, \"weight\": 91.0, \"ap_hi\": 150.0, \"ap_lo\": 100.0, \"cholesterol\": 1.0, \"gluc\": 1.0, \"smoke\": 0.0, \"alco\": 0.0, \"active\": 1.0}'\n",
      "b'{\"age\": 22825.0, \"gender\": 1.0, \"height\": 167.0, \"weight\": 72.0, \"ap_hi\": 110.0, \"ap_lo\": 70.0, \"cholesterol\": 1.0, \"gluc\": 1.0, \"smoke\": 0.0, \"alco\": 0.0, \"active\": 1.0}'\n",
      "b'{\"age\": 22536.0, \"gender\": 2.0, \"height\": 170.0, \"weight\": 84.0, \"ap_hi\": 120.0, \"ap_lo\": 80.0, \"cholesterol\": 2.0, \"gluc\": 2.0, \"smoke\": 0.0, \"alco\": 0.0, \"active\": 1.0}'\n",
      "b'{\"age\": 20438.0, \"gender\": 1.0, \"height\": 162.0, \"weight\": 62.0, \"ap_hi\": 120.0, \"ap_lo\": 80.0, \"cholesterol\": 1.0, \"gluc\": 1.0, \"smoke\": 0.0, \"alco\": 0.0, \"active\": 1.0}'\n",
      "b'{\"age\": 20252.0, \"gender\": 1.0, \"height\": 164.0, \"weight\": 76.0, \"ap_hi\": 130.0, \"ap_lo\": 80.0, \"cholesterol\": 3.0, \"gluc\": 1.0, \"smoke\": 0.0, \"alco\": 0.0, \"active\": 1.0}'\n",
      "b'{\"age\": 19129.0, \"gender\": 2.0, \"height\": 168.0, \"weight\": 80.0, \"ap_hi\": 123.0, \"ap_lo\": 74.0, \"cholesterol\": 1.0, \"gluc\": 1.0, \"smoke\": 0.0, \"alco\": 0.0, \"active\": 1.0}'\n",
      "b'{\"age\": 23518.0, \"gender\": 2.0, \"height\": 165.0, \"weight\": 68.0, \"ap_hi\": 120.0, \"ap_lo\": 80.0, \"cholesterol\": 1.0, \"gluc\": 1.0, \"smoke\": 1.0, \"alco\": 0.0, \"active\": 1.0}'\n",
      "b'{\"age\": 21749.0, \"gender\": 2.0, \"height\": 166.0, \"weight\": 75.0, \"ap_hi\": 140.0, \"ap_lo\": 80.0, \"cholesterol\": 1.0, \"gluc\": 2.0, \"smoke\": 1.0, \"alco\": 0.0, \"active\": 0.0}'\n",
      "b'{\"age\": 23473.0, \"gender\": 2.0, \"height\": 164.0, \"weight\": 67.0, \"ap_hi\": 140.0, \"ap_lo\": 90.0, \"cholesterol\": 3.0, \"gluc\": 3.0, \"smoke\": 1.0, \"alco\": 1.0, \"active\": 1.0}'\n",
      "b'{\"age\": 18847.0, \"gender\": 1.0, \"height\": 154.0, \"weight\": 87.0, \"ap_hi\": 120.0, \"ap_lo\": 80.0, \"cholesterol\": 1.0, \"gluc\": 1.0, \"smoke\": 0.0, \"alco\": 0.0, \"active\": 1.0}'\n",
      "b'{\"age\": 19281.0, \"gender\": 2.0, \"height\": 187.0, \"weight\": 89.0, \"ap_hi\": 120.0, \"ap_lo\": 70.0, \"cholesterol\": 1.0, \"gluc\": 1.0, \"smoke\": 0.0, \"alco\": 0.0, \"active\": 0.0}'\n",
      "b'{\"age\": 15287.0, \"gender\": 1.0, \"height\": 158.0, \"weight\": 63.0, \"ap_hi\": 90.0, \"ap_lo\": 60.0, \"cholesterol\": 1.0, \"gluc\": 1.0, \"smoke\": 0.0, \"alco\": 0.0, \"active\": 1.0}'\n",
      "b'{\"age\": 18927.0, \"gender\": 1.0, \"height\": 169.0, \"weight\": 64.0, \"ap_hi\": 130.0, \"ap_lo\": 80.0, \"cholesterol\": 1.0, \"gluc\": 1.0, \"smoke\": 0.0, \"alco\": 0.0, \"active\": 1.0}'\n",
      "b'{\"age\": 20504.0, \"gender\": 2.0, \"height\": 180.0, \"weight\": 80.0, \"ap_hi\": 150.0, \"ap_lo\": 90.0, \"cholesterol\": 1.0, \"gluc\": 1.0, \"smoke\": 0.0, \"alco\": 0.0, \"active\": 1.0}'\n",
      "b'{\"age\": 16160.0, \"gender\": 2.0, \"height\": 178.0, \"weight\": 75.0, \"ap_hi\": 120.0, \"ap_lo\": 70.0, \"cholesterol\": 1.0, \"gluc\": 1.0, \"smoke\": 0.0, \"alco\": 0.0, \"active\": 1.0}'\n",
      "b'{\"age\": 16129.0, \"gender\": 1.0, \"height\": 165.0, \"weight\": 74.0, \"ap_hi\": 140.0, \"ap_lo\": 90.0, \"cholesterol\": 1.0, \"gluc\": 1.0, \"smoke\": 0.0, \"alco\": 0.0, \"active\": 1.0}'\n",
      "b'{\"age\": 20370.0, \"gender\": 1.0, \"height\": 149.0, \"weight\": 82.0, \"ap_hi\": 120.0, \"ap_lo\": 80.0, \"cholesterol\": 2.0, \"gluc\": 1.0, \"smoke\": 0.0, \"alco\": 0.0, \"active\": 1.0}'\n",
      "b'{\"age\": 21168.0, \"gender\": 1.0, \"height\": 165.0, \"weight\": 70.0, \"ap_hi\": 130.0, \"ap_lo\": 80.0, \"cholesterol\": 1.0, \"gluc\": 1.0, \"smoke\": 0.0, \"alco\": 0.0, \"active\": 0.0}'\n"
     ]
    },
    {
     "name": "stdout",
     "output_type": "stream",
     "text": [
      "b'{\"age\": 20453.0, \"gender\": 2.0, \"height\": 158.0, \"weight\": 68.0, \"ap_hi\": 120.0, \"ap_lo\": 80.0, \"cholesterol\": 1.0, \"gluc\": 1.0, \"smoke\": 0.0, \"alco\": 0.0, \"active\": 1.0}'\n",
      "CPU times: user 81.9 ms, sys: 25.6 ms, total: 108 ms\n",
      "Wall time: 2.86 s\n"
     ]
    }
   ],
   "source": [
    "%%time\n",
    "predictions = X_test[['age', 'gender', 'height', 'weight', 'ap_hi', 'ap_lo', 'cholesterol', 'gluc', 'smoke', 'alco', 'active']].iloc[:50].apply(lambda x: get_prediction(x), 1)"
   ]
  },
  {
   "cell_type": "code",
   "execution_count": 8,
   "metadata": {},
   "outputs": [
    {
     "data": {
      "text/plain": [
       "0     0.38\n",
       "1     0.55\n",
       "2     0.84\n",
       "3     0.50\n",
       "4     0.37\n",
       "5     0.42\n",
       "6     0.46\n",
       "7     0.67\n",
       "8     0.47\n",
       "9     0.30\n",
       "10    0.80\n",
       "11    0.48\n",
       "12    0.37\n",
       "13    0.40\n",
       "14    0.43\n",
       "15    0.65\n",
       "16    0.47\n",
       "17    0.86\n",
       "18    0.58\n",
       "19    0.78\n",
       "20    0.45\n",
       "21    0.52\n",
       "22    0.63\n",
       "23    0.30\n",
       "24    0.79\n",
       "25    0.37\n",
       "26    0.40\n",
       "27    0.34\n",
       "28    0.23\n",
       "29    0.40\n",
       "30    0.57\n",
       "31    0.86\n",
       "32    0.36\n",
       "33    0.51\n",
       "34    0.42\n",
       "35    0.62\n",
       "36    0.54\n",
       "37    0.56\n",
       "38    0.84\n",
       "39    0.84\n",
       "40    0.58\n",
       "41    0.41\n",
       "42    0.28\n",
       "43    0.55\n",
       "44    0.78\n",
       "45    0.36\n",
       "46    0.85\n",
       "47    0.61\n",
       "48    0.58\n",
       "49    0.52\n",
       "dtype: float64"
      ]
     },
     "execution_count": 8,
     "metadata": {},
     "output_type": "execute_result"
    }
   ],
   "source": [
    "predictions"
   ]
  },
  {
   "cell_type": "code",
   "execution_count": 9,
   "metadata": {},
   "outputs": [
    {
     "data": {
      "text/plain": [
       "0.8470209339774557"
      ]
     },
     "execution_count": 9,
     "metadata": {},
     "output_type": "execute_result"
    }
   ],
   "source": [
    "roc_auc_score(y_score=predictions.values, y_true=y_test.iloc[:50])"
   ]
  }
 ],
 "metadata": {
  "kernelspec": {
   "display_name": "Python 3",
   "language": "python",
   "name": "python3"
  },
  "language_info": {
   "codemirror_mode": {
    "name": "ipython",
    "version": 3
   },
   "file_extension": ".py",
   "mimetype": "text/x-python",
   "name": "python",
   "nbconvert_exporter": "python",
   "pygments_lexer": "ipython3",
   "version": "3.7.6"
  }
 },
 "nbformat": 4,
 "nbformat_minor": 2
}
